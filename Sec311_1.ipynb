{
 "cells": [
  {
   "cell_type": "code",
   "execution_count": null,
   "metadata": {},
   "outputs": [],
   "source": [
    "%run ./libs.ipynb\n",
    "%run ./initialize.ipynb\n",
    "%run ./signals_sec311.ipynb\n",
    "\n",
    "depth0 = LB/4*1e6\n",
    "Noversampl = 1\n",
    "\n",
    "def getSig(f, ph0):\n",
    "    \n",
    "    noise = 0.00001    \n",
    "    depth0 = f*LB/2*1e6\n",
    "    \n",
    "    sf, sfilt, ss, Ss, dsampled, snr = signals(Noversampl, depth0, oof, ofcont, FILT, Order, FiltType, FILTFACT, AutoPhase, ph0, IQ, noise, SNR)\n",
    "    \n",
    "    fig = plt.figure(figsize = (13,3))\n",
    "    ax = fig.add_subplot(111)\n",
    "    line1 = plt.plot(np.real(sf[:]), linewidth='2.5', label='Physical signal')\n",
    "    line2 = plt.plot(np.real(sfilt[:]), linewidth='2.5', label='Filtered signal')\n",
    "\n",
    "    ss = np.interp(np.linspace(1,len(ss),len(sf)),np.linspace(1,len(ss),len(ss)),ss)\n",
    "    \n",
    "    line3 = plt.plot(np.real(ss[:]), linewidth='2.5', label='Sampled signal')\n",
    "    \n",
    "    plt.xlim([int(len(sf)/2) - int(len(sf)/2/3), int(len(sf)/2) + int(len(sf)/2/3)])\n",
    "    plt.tick_params(axis='x',          # changes apply to the x-axis\n",
    "                    which='both',      # both major and minor ticks are affected\n",
    "                    bottom=False,      # ticks along the bottom edge are off\n",
    "                    top=False,         # ticks along the top edge are off\n",
    "                    labelbottom=False) # labels along the bottom edge are off\n",
    "    plt.ylabel('Signal, a.u.', fontsize = 15)\n",
    "    plt.xlabel('# points', fontsize = 15)\n",
    "    ax.legend(loc='upper right', bbox_to_anchor=(1.24, 1.1), fontsize = 15)\n",
    "              \n",
    "# depth\n",
    "f_slide = widgets.FloatSlider(value = 1,\n",
    "                              description = 'f/fo',\n",
    "                              min = 0,\n",
    "                              max = 1,\n",
    "                              step = .05,\n",
    "                              continuous_update = True,\n",
    "                              layout=Layout(width='500px'))\n",
    "# phase\n",
    "ph_slide = widgets.FloatSlider(value = np.pi,\n",
    "                            description = 'Clock Phase',\n",
    "                            min = 0,\n",
    "                            max = 2*np.pi,\n",
    "                            step = 2*np.pi/10,\n",
    "                            continuous_update = True,\n",
    "                            layout=Layout(width='500px'))\n",
    "\n",
    "widgets.interact(getSig, f = f_slide, ph0 = ph_slide)"
   ]
  }
 ],
 "metadata": {
  "kernelspec": {
   "display_name": "Python 3",
   "language": "python",
   "name": "python3"
  },
  "language_info": {
   "codemirror_mode": {
    "name": "ipython",
    "version": 3
   },
   "file_extension": ".py",
   "mimetype": "text/x-python",
   "name": "python",
   "nbconvert_exporter": "python",
   "pygments_lexer": "ipython3",
   "version": "3.7.6"
  }
 },
 "nbformat": 4,
 "nbformat_minor": 2
}
