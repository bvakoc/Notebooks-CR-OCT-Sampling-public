{
 "cells": [
  {
   "cell_type": "code",
   "execution_count": null,
   "metadata": {},
   "outputs": [],
   "source": [
    "def CohSumTD_function(ss, Noversampl, nl):\n",
    "    \n",
    "    npts1 = len(ss)\n",
    "    \n",
    "    if Noversampl >= 2:\n",
    "        Noversampl2 = int(np.floor(Noversampl))\n",
    "    else:\n",
    "        Noversampl2 = 2\n",
    "        \n",
    "        print(\"\\033[1;31;47m Error: Coherent sum meaningless for sampling < 2; use Nyquist interp. to compensate roll-off! \\n\")\n",
    "    \n",
    "    npts2 = nl*Noversampl2\n",
    "    \n",
    "    ssr = np.real(ss)\n",
    "    ssi = np.imag(ss)\n",
    "\n",
    "    ssr_int0 = interpolate.splrep(np.linspace(1, npts1, npts1), ssr)\n",
    "    ssr_int = interpolate.splev(np.linspace(1, npts1, npts2), ssr_int0)\n",
    "    \n",
    "    ssi_int0 = interpolate.splrep(np.linspace(1, npts1, npts1), ssi)\n",
    "    ssi_int = interpolate.splev(np.linspace(1, npts1, npts2), ssi_int0)\n",
    "    \n",
    "    \n",
    "    #fr = interp1d(np.linspace(1, npts1, npts1), ssr, type='cubic')\n",
    "    #ssr_int = fr(np.linspace(1, npts1, npts2))\n",
    "    \n",
    "    #fi = interp1d(np.linspace(1, npts1, npts1), ssi, type='cubic')\n",
    "    #ssi_int = fi(np.linspace(1, npts1, npts2))\n",
    "    \n",
    "    \n",
    "    #ssr_int = np.interp(np.linspace(1, npts1, npts2), np.linspace(1, npts1, npts1), ssr)\n",
    "    #ssi_int = np.interp(np.linspace(1, npts1, npts2), np.linspace(1, npts1, npts1), ssi)\n",
    "        \n",
    "    ss_int = ssr_int + 1j*ssi_int            \n",
    "    \n",
    "    ss_CohSum = np.zeros(npts2, dtype=complex)\n",
    "    \n",
    "    count = -1\n",
    "    for inc in range(0, npts2, Noversampl2):\n",
    "        count = count + 1\n",
    "        ss_CohSum[count] = np.mean(ss_int[inc:inc + Noversampl2-1])\n",
    "    \n",
    "    return(ss_CohSum)"
   ]
  }
 ],
 "metadata": {
  "kernelspec": {
   "display_name": "Python 3",
   "language": "python",
   "name": "python3"
  },
  "language_info": {
   "codemirror_mode": {
    "name": "ipython",
    "version": 3
   },
   "file_extension": ".py",
   "mimetype": "text/x-python",
   "name": "python",
   "nbconvert_exporter": "python",
   "pygments_lexer": "ipython3",
   "version": "3.7.6"
  }
 },
 "nbformat": 4,
 "nbformat_minor": 2
}
