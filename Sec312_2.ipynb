{
 "cells": [
  {
   "cell_type": "code",
   "execution_count": 1,
   "metadata": {},
   "outputs": [],
   "source": [
    "%run ./libs.ipynb\n",
    "%run ./initialize.ipynb\n",
    "%run ./signals_sec312.ipynb\n",
    "\n",
    "from ipywidgets import TwoByTwoLayout\n",
    "from IPython.display import clear_output\n",
    "\n",
    "Noversampl = 1 \n",
    "AutoPhase = True\n",
    "SNR = True\n",
    "IQ = True\n",
    "\n",
    "ph0 = 0.4"
   ]
  },
  {
   "cell_type": "code",
   "execution_count": null,
   "metadata": {},
   "outputs": [],
   "source": [
    "def getSig(_):\n",
    "    Order = order_dropdown.value + 1\n",
    "    FiltType = FiltType_dropdown.value\n",
    "    FiltRange = FiltRange_slider.value\n",
    "    ndepth = ndepth_text.value\n",
    "    AVG = avg_text.value\n",
    "    \n",
    "    nfilt = int((FiltRange[1]-FiltRange[0])/0.1)\n",
    "               \n",
    "    global snr\n",
    "    snr = np.zeros([nfilt, ndepth])\n",
    "    \n",
    "    filtrange = np.linspace(FiltRange[0], FiltRange[1], nfilt)\n",
    "    f = np.linspace(0, 1, ndepth)\n",
    "    \n",
    "    for nn  in range(0,nfilt):\n",
    "        print(\"Calculating: \", int(nn/nfilt*100), \"%\")\n",
    "        FILTFACT = filtrange[nn]\n",
    "                \n",
    "        for avg in range(0, AVG):\n",
    "            snr0 = signals_sec312(Noversampl, oof, ofcont, FILT, Order, FiltType, FILTFACT, AutoPhase, ph0, IQ, noise, SNR, ndepth)\n",
    "\n",
    "            snr[nn, :] = snr[nn, :] + snr0\n",
    "                \n",
    "    getPlot(10*np.log10(snr/AVG),filtrange,f)   \n",
    "                  \n",
    "def getPlot(y,filtrange,f):\n",
    "    fig = plt.figure()\n",
    "    ax1 = fig.add_subplot(111)\n",
    "    plot1 = plt.imshow(y, extent=[f[0],f[-1],filtrange[-1],filtrange[0]], cmap=plt.cm.viridis)\n",
    "    plt.colorbar()\n",
    "    plt.gca().invert_yaxis()\n",
    "    plt.ylabel('Cutoff, nfo', fontsize = 15)\n",
    "    plt.xlabel('Baseband', fontsize = 15)\n",
    "    plt.show()"
   ]
  },
  {
   "cell_type": "code",
   "execution_count": 8,
   "metadata": {},
   "outputs": [],
   "source": [
    "# order    \n",
    "order_dropdown = widgets.Dropdown(options = [('2',1),('3',2),('4',3),('5',4)],\n",
    "                                  value = 4,\n",
    "                                  description = 'Order:',\n",
    "                                  layout=Layout(width='180px'))\n",
    "\n",
    "# filter type\n",
    "FiltType_dropdown = widgets.Dropdown(options = [('Butter', 1), ('Cheby', 2)],\n",
    "                                     value = 1,\n",
    "                                     description = 'Type:',\n",
    "                                     layout=Layout(width='180px'))\n",
    "\n",
    "# corner frequency range\n",
    "FiltRange_slider = widgets.FloatRangeSlider(value = [1, 1.8],\n",
    "                                            min=0.7, max=3, step=0.1,\n",
    "                                            description = 'LPF cutoff',\n",
    "                                            readout_format='.1f')\n",
    "# number of depths\n",
    "ndepth_text = widgets.IntText(value = 10, description = '# depths',  layout=Layout(width='180px'))\n",
    "\n",
    "# number of averages\n",
    "avg_text = widgets.IntText(value = 10, description = 'Avg',  layout=Layout(width='180px'))\n",
    "\n",
    "# run calculation\n",
    "Run_button = widgets.Button(description='Run', button_style = 'danger', layout=Layout(width='92px', margin='1px 90px')) "
   ]
  },
  {
   "cell_type": "code",
   "execution_count": null,
   "metadata": {},
   "outputs": [],
   "source": [
    "Run_button.on_click(getSig)"
   ]
  }
 ],
 "metadata": {
  "kernelspec": {
   "display_name": "Python 3",
   "language": "python",
   "name": "python3"
  },
  "language_info": {
   "codemirror_mode": {
    "name": "ipython",
    "version": 3
   },
   "file_extension": ".py",
   "mimetype": "text/x-python",
   "name": "python",
   "nbconvert_exporter": "python",
   "pygments_lexer": "ipython3",
   "version": "3.7.6"
  }
 },
 "nbformat": 4,
 "nbformat_minor": 2
}
