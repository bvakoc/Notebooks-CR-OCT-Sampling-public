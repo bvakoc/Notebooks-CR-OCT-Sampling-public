{
 "cells": [
  {
   "cell_type": "code",
   "execution_count": 1,
   "metadata": {},
   "outputs": [],
   "source": [
    "%run ./libs.ipynb\n",
    "%run ./initialize.ipynb\n",
    "%run ./signals.ipynb"
   ]
  },
  {
   "cell_type": "code",
   "execution_count": 2,
   "metadata": {},
   "outputs": [],
   "source": [
    "def getPlot(ss, Ss, dsampled):\n",
    "    fig = plt.figure(figsize = (15,3))\n",
    "    ax = fig.add_subplot(111)\n",
    "    \n",
    "    ax.plot(dsampled*1e3,10*np.log10(Ss),'k')\n",
    "    plt.ylabel('Signal, a.u.', fontsize = 20)\n",
    "    plt.xlabel('Depth, mm', fontsize = 20)\n",
    "    plt.ylim([-120, -55])\n",
    "    plt.xlim([-LB/2*1e3*3, LB/2*1e3*3])\n",
    "    plt.grid(color='k', linestyle='-', linewidth=.1)\n",
    "    \n",
    "    LBrange = dsampled+LB/2\n",
    "    LB_rect = np.heaviside(LBrange,0.5)\n",
    "    LB_rect[dsampled > LB/2] = 0\n",
    "    trans = mtransforms.blended_transform_factory(ax.transData, ax.transAxes)\n",
    "    ax.fill_between(dsampled*1e3, 0, 1, where=LB_rect > 0.5,\n",
    "                    facecolor='green', alpha=0.2, transform=trans)\n",
    "    plt.show()\n",
    "    \n",
    "def getSig(Noversampl, depth0, FILT, Order, FiltType, AutoPhase, ph0):\n",
    "    sf, sfilt, ss, Ss, dsampled = signals(Noversampl, depth0, oof, ofcont, FILT, Order, FiltType, AutoPhase, ph0)\n",
    "    getPlot(ss,Ss,dsampled)"
   ]
  },
  {
   "cell_type": "code",
   "execution_count": 3,
   "metadata": {},
   "outputs": [],
   "source": [
    "# N oversampling\n",
    "Nsampl = widgets.FloatText(value = 1,\n",
    "                         description = 'Oversampling')\n",
    "\n",
    "# depth\n",
    "d_slide = widgets.FloatSlider(value = 250,\n",
    "                              description = 'Depth, mm',\n",
    "                              min = -1000,\n",
    "                              max = 1000,\n",
    "                              step = 100,\n",
    "                              continuous_update = True)\n",
    "\n",
    "# low-pass filter\n",
    "LPF = widgets.ToggleButton(value = True,\n",
    "                           description = 'LPF') \n",
    "\n",
    "order = widgets.Dropdown(options = [('2',1),('3',2),('4',3),('5',4)],\n",
    "                         value = 4,\n",
    "                         description = 'Order:')\n",
    "\n",
    "LPFtype = widgets.Dropdown(options = [('Butter', 1), ('Cheby', 2)],\n",
    "                           value = 1,\n",
    "                           description = 'Type:')\n",
    "\n",
    "# acquisition\n",
    "auto_phase = widgets.ToggleButton(value = False,\n",
    "                                  description = 'AutoPhase',\n",
    "                                  #button_style = 'success', # 'success', 'info', 'warning', 'danger' or ''\n",
    "                                  #tooltip = 'Description',\n",
    "                                  #indent=True\n",
    ")\n",
    "\n",
    "phase = widgets.FloatText(value = 0,\n",
    "                          description = 'AcqPhase:',\n",
    "                          disabled = False)"
   ]
  },
  {
   "cell_type": "code",
   "execution_count": 4,
   "metadata": {},
   "outputs": [
    {
     "data": {
      "application/vnd.jupyter.widget-view+json": {
       "model_id": "efb4e837ca01476282f2e617721bd8e1",
       "version_major": 2,
       "version_minor": 0
      },
      "text/plain": [
       "interactive(children=(FloatText(value=1.0, description='Oversampling'), FloatSlider(value=250.0, description='…"
      ]
     },
     "metadata": {},
     "output_type": "display_data"
    },
    {
     "data": {
      "text/plain": [
       "<function __main__.getSig(Noversampl, depth0, FILT, Order, FiltType, AutoPhase, ph0)>"
      ]
     },
     "execution_count": 4,
     "metadata": {},
     "output_type": "execute_result"
    }
   ],
   "source": [
    "widgets.interact(getSig, Noversampl = Nsampl, depth0 = d_slide, FILT = LPF, Order = order, FiltType = LPFtype, AutoPhase = auto_phase, ph0 = phase)"
   ]
  },
  {
   "cell_type": "code",
   "execution_count": null,
   "metadata": {
    "scrolled": false
   },
   "outputs": [],
   "source": []
  },
  {
   "cell_type": "code",
   "execution_count": null,
   "metadata": {},
   "outputs": [],
   "source": []
  },
  {
   "cell_type": "code",
   "execution_count": null,
   "metadata": {},
   "outputs": [],
   "source": []
  }
 ],
 "metadata": {
  "kernelspec": {
   "display_name": "Python 3",
   "language": "python",
   "name": "python3"
  },
  "language_info": {
   "codemirror_mode": {
    "name": "ipython",
    "version": 3
   },
   "file_extension": ".py",
   "mimetype": "text/x-python",
   "name": "python",
   "nbconvert_exporter": "python",
   "pygments_lexer": "ipython3",
   "version": "3.7.6"
  }
 },
 "nbformat": 4,
 "nbformat_minor": 4
}
