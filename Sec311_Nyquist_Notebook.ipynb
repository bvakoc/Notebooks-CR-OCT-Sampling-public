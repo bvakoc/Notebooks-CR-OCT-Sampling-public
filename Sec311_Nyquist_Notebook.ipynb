{
 "cells": [
  {
   "cell_type": "markdown",
   "metadata": {},
   "source": [
    "<b> <h1>Section 3.1.1 | Acquisition clock phase</h1> </b>\n",
    "\n",
    "This Notebook serves as supplementary material to Sec. 3.1.1. and Figs. 6,7. It illustrates the dependency of the signal magnitude on the acquisition clock phase in Nyquist sampling. We show the effect of the clock phase on the fringe signal and the depth signal."
   ]
  },
  {
   "cell_type": "markdown",
   "metadata": {},
   "source": [
    "<h2>Fringe signal</h2>\n",
    "\n",
    "<b>Exercise</b>\n",
    "<ul type=\"square\">\n",
    "    <li>Slowly change the RF fringe frequency and observe changes in the CR signal.</li>\n",
    "    <li>Pay attention to the stepped fringe (blue line) that converges to a rectangular fringe as the fringe frequency approaches the optical Nyquist frequency.</li>\n",
    "    <li>Slowly change the acquisition clock phase and observe changes in the sampled signal (green line).</li>\n",
    "    <li>Repeat the previous excerise for a low fringe frequency and high fringe frequency (e.g., $f = f_o$). Observe how the signal magnitude is more dependent on the acquisition clock phase for high RF frequencies. Observe how the sampled signal (green line) can be lost at the optical Nyquist frequency in the case of a misaligned clock phase.</li>\n",
    "</ul>"
   ]
  },
  {
   "cell_type": "code",
   "execution_count": 1,
   "metadata": {},
   "outputs": [
    {
     "data": {
      "application/vnd.jupyter.widget-view+json": {
       "model_id": "4b9914a23d8b4379a7971589ed01d766",
       "version_major": 2,
       "version_minor": 0
      },
      "text/plain": [
       "interactive(children=(FloatSlider(value=1.0, description='$f/f_o$', layout=Layout(width='500px'), max=1.0, ste…"
      ]
     },
     "metadata": {},
     "output_type": "display_data"
    }
   ],
   "source": [
    "%run ./Sec311_1.ipynb"
   ]
  },
  {
   "cell_type": "markdown",
   "metadata": {},
   "source": [
    "<b>Description</b>\n",
    "<ul type=\"square\">\n",
    "    <li>The graph below computes a CR fringe signal, showing the pysical signal (befor detection, blue line), the detected and analog low-pass filtered signal (yellow line) and the Nyquist sampled signal (green line).</li>\n",
    "    <li>The RF fringe frequency (signal depth) can be adjusted with the '$f/f_o$' slider. It is normalized to the optical Nyquist frequency; i.e., 1 corresponds to a fringe frequency that is equal to the optical Nyquist frequency of the frequency comb.</li>\n",
    "    <li>The acquistion clock phase can be adjusted with the 'Clock Phase' slider (in radians).</li>\n",
    "</ul>\n"
   ]
  },
  {
   "cell_type": "markdown",
   "metadata": {},
   "source": [
    "<h2>Depth signal</h2>\n",
    "\n",
    "<b>Exercise</b>\n",
    "<ul type=\"square\">\n",
    "    <li>With I/Q 'on' and Log 'off' (linear scale), observe the signal loss when approaching optical Nyquist frequency due to\n",
    "        acquisition clock phase misalignment.</li>\n",
    "    <li>Optimize the acquisition clock phase by maximizing the PSF magnitude at a depth near the optical Nyquist frequency.</li>\n",
    "</ul>"
   ]
  },
  {
   "cell_type": "code",
   "execution_count": 3,
   "metadata": {},
   "outputs": [
    {
     "data": {
      "application/vnd.jupyter.widget-view+json": {
       "model_id": "f6aeabb87eb34342aed2c249cc16d46a",
       "version_major": 2,
       "version_minor": 0
      },
      "text/plain": [
       "HBox(children=(VBox(children=(ToggleButton(value=True, description='I/Q', layout=Layout(margin='5px 54px')), T…"
      ]
     },
     "metadata": {},
     "output_type": "display_data"
    },
    {
     "data": {
      "application/vnd.jupyter.widget-view+json": {
       "model_id": "edde4493116c4d2dbb39103690b6d6db",
       "version_major": 2,
       "version_minor": 0
      },
      "text/plain": [
       "Output()"
      ]
     },
     "metadata": {},
     "output_type": "display_data"
    }
   ],
   "source": [
    "%run ./Sec311_2.ipynb"
   ]
  },
  {
   "cell_type": "markdown",
   "metadata": {},
   "source": [
    "<b>Description</b>\n",
    "<ul type=\"square\">\n",
    "    <li>Here we plot the CR signal in the RF (depth) domain after Fourier transformation</li>\n",
    "    <li>The x-axis represents the normalized RF-frequency with respect to the optical Nyquist frequency</li>\n",
    "    <li>The 'I/Q' button turns quadature detection on and off.</li>\n",
    "    <li>The 'Log' button switches between linear and logarithmic scale.</li>\n",
    "    <li>The signal depth (fringe frequency) can be adjusted with the '$f/f_o$' slider. It is normalized to the optical Nyquist frequency; i.e., 1 corresponds to a fringe frequency that is equal to the optical Nyquist frequency.</li>\n",
    "    <li>The acquistion clock phase can be adjusted with the 'Clock Phase' slider (in radians).</li>\n",
    "</ul>"
   ]
  },
  {
   "cell_type": "code",
   "execution_count": null,
   "metadata": {},
   "outputs": [],
   "source": []
  }
 ],
 "metadata": {
  "kernelspec": {
   "display_name": "Python 3",
   "language": "python",
   "name": "python3"
  },
  "language_info": {
   "codemirror_mode": {
    "name": "ipython",
    "version": 3
   },
   "file_extension": ".py",
   "mimetype": "text/x-python",
   "name": "python",
   "nbconvert_exporter": "python",
   "pygments_lexer": "ipython3",
   "version": "3.7.6"
  }
 },
 "nbformat": 4,
 "nbformat_minor": 2
}
