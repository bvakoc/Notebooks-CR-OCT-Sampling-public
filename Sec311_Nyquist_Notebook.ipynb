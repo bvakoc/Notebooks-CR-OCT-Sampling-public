{
 "cells": [
  {
   "cell_type": "markdown",
   "metadata": {},
   "source": [
    "<b> <h1>Section 3.1.1 | Acquisition clock phase</h1> </b>\n",
    "\n",
    "This Notebook serves as supplementary material to Sec. 3.1.1. and Figs. 6,7. It illustrates the dependency of the signal magnitude on the acquisition clock phase in Nyquist sampling."
   ]
  },
  {
   "cell_type": "markdown",
   "metadata": {},
   "source": [
    "<h2>Fringe signal</h2>\n",
    "\n",
    "<b>Notes</b>\n",
    "<ul type=\"square\">\n",
    "    <li>The graph below computes a CR fringe signal, showing the pysical signal (befor detection, blue line), the detected and analog low-pass filtered signal (yellow line) and the Nyquist sampled signal (green line).</li>\n",
    "    <li>The RF fringe frequency (signal depth) can be adjusted with the 'f/fo' slider. It is normalized to the optical Nyquist frequency; i.e., 1 corresponds to a fringe frequency that is equal to the optical Nyquist frequency of the frequency comb.</li>\n",
    "    <li>The acquistion clock phase can be adjusted with the 'Clock Phase' slider (in radians).</li>\n",
    "</ul>\n",
    "\n",
    "<b>Exercise</b>\n",
    "<ul type=\"square\">\n",
    "    <li>Slowly change the RF fringe frequency and observe changes in the CR signal.</li>\n",
    "    <li>Pay attention to the stepped fringe (blue line) that converges to a rectangular fringe as the fringe frequency approaches the optical Nyquist frequency.</li>\n",
    "    <li>Slowly change the acquisition clock phase and observe changes in the sampled signal (green line).</li>\n",
    "    <li>Repeat the previous excerise for a low fringe frequency and high fringe frequency (e.g., f = fo). Observe how the signal magnitude is more dependent on the acquisition clock phase for high RF frequencies. Observe how the sampled signal (green line) can be lost at the optical Nyquist frequency in the case of a misaligned clock phase.</li>\n",
    "</ul>"
   ]
  },
  {
   "cell_type": "code",
   "execution_count": 1,
   "metadata": {},
   "outputs": [
    {
     "data": {
      "application/vnd.jupyter.widget-view+json": {
       "model_id": "8290bac2d5b04efc9e26b11f1787dbb9",
       "version_major": 2,
       "version_minor": 0
      },
      "text/plain": [
       "interactive(children=(FloatSlider(value=1.0, description='f/fo', layout=Layout(width='500px'), max=1.0, step=0…"
      ]
     },
     "metadata": {},
     "output_type": "display_data"
    }
   ],
   "source": [
    "%run ./Sec311_1.ipynb"
   ]
  },
  {
   "cell_type": "markdown",
   "metadata": {},
   "source": [
    "<h2>Depth signal</h2>\n",
    "\n",
    "<b>Notes</b>\n",
    "<ul type=\"square\">\n",
    "    <li>Here we plot the CR signal in the RF (depth) domain after Fourier transformation</li>\n",
    "    <li>The x-axis represents the normalized RF-frequency with respect to the optical Nyquist frequency</li>\n",
    "    <li>The 'I/Q' button turns quadature detection on and off.</li>\n",
    "    <li>The 'Log' button switches between linear and logarithmic scale.</li>\n",
    "    <li>The signal depth (fringe frequency) can be adjusted with the 'f/fo' slider. It is normalized to the optical Nyquist frequency; i.e., 1 corresponds to a fringe frequency that is equal to the optical Nyquist frequency.</li>\n",
    "    <li>The acquistion clock phase can be adjusted with the 'Clock Phase' slider (in radians).</li>\n",
    "</ul>\n",
    "\n",
    "<b>Exercise</b>\n",
    "<ul type=\"square\">\n",
    "    <li>With I/Q 'on' and Log 'off' (linear scale), observe the signal loss when approaching optical Nyquist frequency due to\n",
    "        acquisition clock phase misalignment.</li>\n",
    "    <li>Optimize the acquisition clock phase by maximizing the PSF magnitude at a depth near the optical Nyquist frequency.</li>\n",
    "</ul>"
   ]
  },
  {
   "cell_type": "code",
   "execution_count": 2,
   "metadata": {},
   "outputs": [
    {
     "data": {
      "application/vnd.jupyter.widget-view+json": {
       "model_id": "46b9fa33d0af4a68b5feea0bb9272e4d",
       "version_major": 2,
       "version_minor": 0
      },
      "text/plain": [
       "HBox(children=(VBox(children=(ToggleButton(value=True, description='I/Q', layout=Layout(margin='5px 54px')), T…"
      ]
     },
     "metadata": {},
     "output_type": "display_data"
    },
    {
     "data": {
      "application/vnd.jupyter.widget-view+json": {
       "model_id": "47e17a6eff134971b0166450609c769e",
       "version_major": 2,
       "version_minor": 0
      },
      "text/plain": [
       "Output()"
      ]
     },
     "metadata": {},
     "output_type": "display_data"
    }
   ],
   "source": [
    "%run ./Sec311_2.ipynb"
   ]
  }
 ],
 "metadata": {
  "kernelspec": {
   "display_name": "Python 3",
   "language": "python",
   "name": "python3"
  },
  "language_info": {
   "codemirror_mode": {
    "name": "ipython",
    "version": 3
   },
   "file_extension": ".py",
   "mimetype": "text/x-python",
   "name": "python",
   "nbconvert_exporter": "python",
   "pygments_lexer": "ipython3",
   "version": "3.7.6"
  }
 },
 "nbformat": 4,
 "nbformat_minor": 2
}
