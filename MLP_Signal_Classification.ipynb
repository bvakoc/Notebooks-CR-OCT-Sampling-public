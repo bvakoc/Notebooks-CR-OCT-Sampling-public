{
  "cells": [
    {
      "cell_type": "code",
      "execution_count": 1,
      "metadata": {
        "id": "tltYkZ1mK49T"
      },
      "outputs": [],
      "source": [
        "import torch\n",
        "import numpy as np\n",
        "import matplotlib.pyplot as plt\n",
        "from scipy.io import loadmat\n",
        "import numpy as np\n",
        "from sklearn.model_selection import train_test_split\n",
        "from sklearn.preprocessing import StandardScaler\n",
        "import time\n",
        "from tqdm.notebook import tqdm"
      ]
    },
    {
      "cell_type": "code",
      "execution_count": 2,
      "metadata": {
        "id": "8vXXGXb9K49U",
        "outputId": "64ab7308-5f96-4a8d-b9de-36e41095e814",
        "colab": {
          "base_uri": "https://localhost:8080/"
        }
      },
      "outputs": [
        {
          "output_type": "stream",
          "name": "stdout",
          "text": [
            "cuda:0\n"
          ]
        }
      ],
      "source": [
        "#Make sure to use GPU if available\n",
        "use_cuda = torch.cuda.is_available()\n",
        "device = torch.device(\"cuda:0\" if use_cuda else \"cpu\")\n",
        "torch.backends.cudnn.benchmark = True\n",
        "print(device)"
      ]
    },
    {
      "cell_type": "code",
      "execution_count": null,
      "metadata": {
        "id": "ojpQ96q2K49V",
        "outputId": "d857da2c-c3c6-47c5-d237-bfbd56a65d3d"
      },
      "outputs": [
        {
          "name": "stdout",
          "output_type": "stream",
          "text": [
            "(1000000, 256)\n",
            "(1000000,)\n"
          ]
        }
      ],
      "source": [
        "#Load signals and labels\n",
        "signals_mat = loadmat('signals_1.mat')['fringe'].transpose()\n",
        "signals = np.concatenate((signals_mat.real,signals_mat.imag),axis=1)\n",
        "labels_mat = loadmat('labels_1.mat')['label'].transpose()\n",
        "labels = labels_mat[:,0]\n",
        "\n",
        "print(signals.shape)\n",
        "print(labels.shape)"
      ]
    },
    {
      "cell_type": "code",
      "execution_count": null,
      "metadata": {
        "id": "Z9KCiI2MK49V",
        "outputId": "31df4338-3e1f-465c-92dd-2bc9f4f1250d"
      },
      "outputs": [
        {
          "name": "stdout",
          "output_type": "stream",
          "text": [
            "Testing:\n",
            "(200000, 256)\n",
            "(200000,)\n",
            "Training:\n",
            "(640000, 256)\n",
            "(640000,)\n",
            "Validation:\n",
            "(160000, 256)\n",
            "(160000,)\n"
          ]
        }
      ],
      "source": [
        "#Define training, test, and validation sets\n",
        "x_train,x_test, y_train, y_test = train_test_split(signals, labels, train_size=0.8, stratify=labels)\n",
        "\n",
        "x_train, x_val, y_train, y_val = train_test_split(x_train, y_train, train_size=0.8, stratify=y_train)\n",
        "\n",
        "print('Testing:')\n",
        "print(x_test.shape)\n",
        "print(y_test.shape)\n",
        "\n",
        "print('Training:')\n",
        "print(x_train.shape)\n",
        "print(y_train.shape)\n",
        "\n",
        "print('Validation:')\n",
        "print(x_val.shape)\n",
        "print(y_val.shape)\n"
      ]
    },
    {
      "cell_type": "code",
      "execution_count": null,
      "metadata": {
        "id": "vsBAPKH0K49V"
      },
      "outputs": [],
      "source": [
        "#Scaling\n",
        "sc = StandardScaler()\n",
        "signals = sc.fit_transform(signals)"
      ]
    },
    {
      "cell_type": "code",
      "execution_count": null,
      "metadata": {
        "id": "1pZ3-YxcK49V"
      },
      "outputs": [],
      "source": [
        "#defining training, validation, and test classes\n",
        "from torch.utils.data import Dataset, DataLoader\n",
        "class dataset(Dataset):\n",
        "  def __init__(self,x,y):\n",
        "    self.x = torch.tensor(x,dtype=torch.float32)\n",
        "    self.y = torch.tensor(y,dtype=torch.float32)\n",
        "    self.length = self.x.shape[0]\n",
        " \n",
        "  def __getitem__(self,idx):\n",
        "    return self.x[idx],self.y[idx]\n",
        "  def __len__(self):\n",
        "    return self.length\n",
        "\n",
        "trainset = dataset(x_train,y_train)\n",
        "valset = dataset(x_val,y_val)\n",
        "testset = dataset(x_test,y_test)"
      ]
    },
    {
      "cell_type": "code",
      "execution_count": null,
      "metadata": {
        "id": "Amopz3mKK49V"
      },
      "outputs": [],
      "source": [
        "#DataLoaders\n",
        "trainloader = DataLoader(trainset,batch_size=512,shuffle=False)\n",
        "valloader = DataLoader(valset,batch_size=512,shuffle=False)\n",
        "testloader = DataLoader(testset,batch_size=512,shuffle=False)"
      ]
    },
    {
      "cell_type": "code",
      "execution_count": null,
      "metadata": {
        "id": "6ZOsz3g9K49V"
      },
      "outputs": [],
      "source": [
        "#defining the network\n",
        "from torch import nn\n",
        "from torch.nn import functional as F\n",
        "class Net(nn.Module):\n",
        "  def __init__(self,input_shape):\n",
        "    super(Net,self).__init__()\n",
        "    self.fc1 = nn.Linear(input_shape,256)\n",
        "    self.fc2 = nn.Linear(256,256)\n",
        "    self.fc3 = nn.Linear(256,256)\n",
        "    self.fc4 = nn.Linear(256,256)\n",
        "    self.fc5 = nn.Linear(256,256)\n",
        "    self.fc6 = nn.Linear(256,1)\n",
        "    #self.fc7 = nn.Linear(256,1)\n",
        "  def forward(self,x):\n",
        "    x = torch.relu(self.fc1(x))\n",
        "    x = torch.relu(self.fc2(x))\n",
        "    x = torch.relu(self.fc3(x))\n",
        "    x = torch.relu(self.fc4(x))\n",
        "    x = torch.relu(self.fc5(x))\n",
        "    x = torch.sigmoid(self.fc6(x))\n",
        "    #x = torch.sigmoid(self.fc7(x))\n",
        "    #x = torch.sigmoid(self.fc7(x))\n",
        "    return x"
      ]
    },
    {
      "cell_type": "code",
      "execution_count": null,
      "metadata": {
        "id": "a6Kq6AiZK49V"
      },
      "outputs": [],
      "source": [
        "#hyper parameters\n",
        "learning_rate = 0.01\n",
        "epochs = 700\n",
        "\n",
        "# Model , Optimizer, Loss\n",
        "model = Net(input_shape=signals.shape[1])\n",
        "optimizer = torch.optim.SGD(model.parameters(),lr=learning_rate)\n",
        "loss_fn = nn.BCELoss()"
      ]
    },
    {
      "cell_type": "code",
      "execution_count": null,
      "metadata": {
        "id": "AOHkXb4WK49W"
      },
      "outputs": [],
      "source": [
        "def count_parameters(model):\n",
        "    return sum(p.numel() for p in model.parameters() if p.requires_grad)"
      ]
    },
    {
      "cell_type": "code",
      "execution_count": null,
      "metadata": {
        "id": "bHs0Vp5SK49W"
      },
      "outputs": [],
      "source": [
        "def fit(epochs, model, train_loader, val_loader, criterion, optimizer, scheduler):\n",
        "    torch.cuda.empty_cache()\n",
        "    losses = []\n",
        "    accur = []\n",
        "\n",
        "    fit_time = time.time()\n",
        "\n",
        "    model = model.to(device)\n",
        "    criterion = criterion.to(device)\n",
        "    \n",
        "    for e in range(epochs):\n",
        "\n",
        "        epoch_loss = 0.0\n",
        "        epoch_acc = 0.0\n",
        "\n",
        "        #training loop\n",
        "        model.train()\n",
        "        for i, (x_train,y_train) in enumerate(tqdm(train_loader)):\n",
        "            \n",
        "            x_train = x_train.to(device)\n",
        "            y_train = y_train.to(device)\n",
        "\n",
        "            #forward pass\n",
        "            output = model(x_train)\n",
        "            loss = criterion(output, y_train.reshape(-1,1))\n",
        "\n",
        "            #backward pass\n",
        "            optimizer.zero_grad()\n",
        "            loss.backward()\n",
        "\n",
        "            #update weights\n",
        "            optimizer.step()\n",
        " \n",
        " \n",
        "        #validation loop\n",
        "        model.eval()\n",
        "        with torch.no_grad():\n",
        "\n",
        "            for i, (x_val, y_val) in enumerate(tqdm(val_loader)):\n",
        "\n",
        "                x_val = x_val.to(device)\n",
        "                y_val = y_val.to(device)\n",
        "\n",
        "                predicted = model(x_val)\n",
        "\n",
        "                loss = criterion(predicted, y_val.reshape(-1,1))\n",
        "\n",
        "                acc = np.mean(predicted.reshape(-1).detach().numpy().round() == y_val.numpy())\n",
        "\n",
        "                epoch_loss += loss.item()\n",
        "                epoch_acc += acc.item()\n",
        "\n",
        "            print(\"epoch {}\\tloss : {}\\t accuracy : {}\".format(e+1,epoch_loss / len(val_loader), epoch_acc / len(val_loader)))"
      ]
    },
    {
      "cell_type": "code",
      "execution_count": null,
      "metadata": {
        "id": "0rkCverfK49W"
      },
      "outputs": [],
      "source": []
    },
    {
      "cell_type": "code",
      "execution_count": null,
      "metadata": {
        "id": "y-6UzxO9K49W",
        "outputId": "60a4fa36-2df7-447c-acdc-17ce49d6e5b7",
        "colab": {
          "referenced_widgets": [
            "a170ac25d8c644a490569bdd5231c70d",
            "03549b0fbd59451c9ab17e5e553c8e24",
            "18c406dc94bc4071b456802ecdcef651",
            "7becd4d5c7b04bc1aaa5d5e713f5574c",
            "f1517781612e477ca918f9adc1fed841",
            "2dab19552e414cf285f29c336e347230",
            "5c45d8323693456c924722c436a5c4db",
            "1092e020fc3248369192382c33384d56",
            "2a98d4e418af498eb16b66a8dc0b93d5"
          ]
        }
      },
      "outputs": [
        {
          "name": "stdout",
          "output_type": "stream",
          "text": [
            "Number of trainable parameters: 329217\n"
          ]
        },
        {
          "data": {
            "application/vnd.jupyter.widget-view+json": {
              "model_id": "a170ac25d8c644a490569bdd5231c70d",
              "version_major": 2,
              "version_minor": 0
            },
            "text/plain": [
              "  0%|          | 0/1250 [00:00<?, ?it/s]"
            ]
          },
          "metadata": {},
          "output_type": "display_data"
        },
        {
          "data": {
            "application/vnd.jupyter.widget-view+json": {
              "model_id": "03549b0fbd59451c9ab17e5e553c8e24",
              "version_major": 2,
              "version_minor": 0
            },
            "text/plain": [
              "  0%|          | 0/313 [00:00<?, ?it/s]"
            ]
          },
          "metadata": {},
          "output_type": "display_data"
        },
        {
          "name": "stdout",
          "output_type": "stream",
          "text": [
            "epoch 0\tloss : 0.6926029196943337\t accuracy : 0.528660393370607\n"
          ]
        },
        {
          "data": {
            "application/vnd.jupyter.widget-view+json": {
              "model_id": "18c406dc94bc4071b456802ecdcef651",
              "version_major": 2,
              "version_minor": 0
            },
            "text/plain": [
              "  0%|          | 0/1250 [00:00<?, ?it/s]"
            ]
          },
          "metadata": {},
          "output_type": "display_data"
        },
        {
          "data": {
            "application/vnd.jupyter.widget-view+json": {
              "model_id": "7becd4d5c7b04bc1aaa5d5e713f5574c",
              "version_major": 2,
              "version_minor": 0
            },
            "text/plain": [
              "  0%|          | 0/313 [00:00<?, ?it/s]"
            ]
          },
          "metadata": {},
          "output_type": "display_data"
        },
        {
          "name": "stdout",
          "output_type": "stream",
          "text": [
            "epoch 1\tloss : 0.6919433836358043\t accuracy : 0.5496580471246006\n"
          ]
        },
        {
          "data": {
            "application/vnd.jupyter.widget-view+json": {
              "model_id": "f1517781612e477ca918f9adc1fed841",
              "version_major": 2,
              "version_minor": 0
            },
            "text/plain": [
              "  0%|          | 0/1250 [00:00<?, ?it/s]"
            ]
          },
          "metadata": {},
          "output_type": "display_data"
        },
        {
          "data": {
            "application/vnd.jupyter.widget-view+json": {
              "model_id": "2dab19552e414cf285f29c336e347230",
              "version_major": 2,
              "version_minor": 0
            },
            "text/plain": [
              "  0%|          | 0/313 [00:00<?, ?it/s]"
            ]
          },
          "metadata": {},
          "output_type": "display_data"
        },
        {
          "name": "stdout",
          "output_type": "stream",
          "text": [
            "epoch 2\tloss : 0.6909897491193047\t accuracy : 0.5596171126198083\n"
          ]
        },
        {
          "data": {
            "application/vnd.jupyter.widget-view+json": {
              "model_id": "5c45d8323693456c924722c436a5c4db",
              "version_major": 2,
              "version_minor": 0
            },
            "text/plain": [
              "  0%|          | 0/1250 [00:00<?, ?it/s]"
            ]
          },
          "metadata": {},
          "output_type": "display_data"
        },
        {
          "data": {
            "application/vnd.jupyter.widget-view+json": {
              "model_id": "1092e020fc3248369192382c33384d56",
              "version_major": 2,
              "version_minor": 0
            },
            "text/plain": [
              "  0%|          | 0/313 [00:00<?, ?it/s]"
            ]
          },
          "metadata": {},
          "output_type": "display_data"
        },
        {
          "name": "stdout",
          "output_type": "stream",
          "text": [
            "epoch 3\tloss : 0.6893496233434342\t accuracy : 0.5707805011980831\n"
          ]
        },
        {
          "data": {
            "application/vnd.jupyter.widget-view+json": {
              "model_id": "2a98d4e418af498eb16b66a8dc0b93d5",
              "version_major": 2,
              "version_minor": 0
            },
            "text/plain": [
              "  0%|          | 0/1250 [00:00<?, ?it/s]"
            ]
          },
          "metadata": {},
          "output_type": "display_data"
        }
      ],
      "source": [
        "sched = torch.optim.lr_scheduler.OneCycleLR(optimizer, learning_rate, epochs=epochs,\n",
        "                                            steps_per_epoch=len(trainloader))\n",
        "\n",
        "print(\"Number of trainable parameters: {}\".format(count_parameters(model)))\n",
        "history = fit(epochs, model, trainloader, valloader, loss_fn, optimizer, sched)"
      ]
    },
    {
      "cell_type": "code",
      "execution_count": null,
      "metadata": {
        "id": "ErTQEzqbK49W"
      },
      "outputs": [],
      "source": []
    }
  ],
  "metadata": {
    "kernelspec": {
      "display_name": "Python 3",
      "name": "python3"
    },
    "language_info": {
      "codemirror_mode": {
        "name": "ipython",
        "version": 3
      },
      "file_extension": ".py",
      "mimetype": "text/x-python",
      "name": "python",
      "nbconvert_exporter": "python",
      "pygments_lexer": "ipython3",
      "version": "3.8.16"
    },
    "orig_nbformat": 4,
    "colab": {
      "provenance": [],
      "gpuType": "T4"
    },
    "accelerator": "GPU"
  },
  "nbformat": 4,
  "nbformat_minor": 0
}