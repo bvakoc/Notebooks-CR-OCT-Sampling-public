{
 "cells": [
  {
   "cell_type": "markdown",
   "metadata": {},
   "source": [
    "<b> <h1>Part 2. | Nyquist sampling: Analog low-pass filter</h1> </b>\n",
    "\n",
    "This Notebook serves as supplementary material to Sec. 3.2. and Fig. 9. It illustrates the dependency of the SNR on the low-pass filter (LPF). "
   ]
  },
  {
   "cell_type": "code",
   "execution_count": 1,
   "metadata": {},
   "outputs": [
    {
     "data": {
      "application/vnd.jupyter.widget-view+json": {
       "model_id": "6781a1dd985541cb81d6bbf919381c01",
       "version_major": 2,
       "version_minor": 0
      },
      "text/plain": [
       "GridspecLayout(children=(Dropdown(description='Type:', layout=Layout(grid_area='widget001', width='180px'), op…"
      ]
     },
     "metadata": {},
     "output_type": "display_data"
    }
   ],
   "source": [
    "%run ./proc2.ipynb\n",
    "grid = GridspecLayout(4, 4)\n",
    "grid[0, 0] = FiltType_dropdown\n",
    "grid[1, 0] = order_dropdown\n",
    "grid[2, 0] = FiltRange_slider\n",
    "grid[0, 1] = ndepth_text\n",
    "grid[1, 1] = avg_text\n",
    "grid[2, 1] = Run_button\n",
    "grid"
   ]
  },
  {
   "cell_type": "markdown",
   "metadata": {},
   "source": [
    "<b>Description</b>\n",
    "<ul type=\"square\">\n",
    "    <li>Choose the LPF type, order and range of corner frequencies for which to calculate the SNR.</li>\n",
    "    <li>The LPF cutoff frequency is normalized to the optical Nyquist frequency; i.e., 1 corresponds to a cutoff at the optical Nyquist frequency.</li>\n",
    "    <li>The '# depths' box represents the number of points across the baseband for which to calculate the SNR.</li>\n",
    "    <li>The 'Avg' box determines the averaging applied for SNR calculation.</li>\n",
    "    <li>After selecting all parameters, press the 'Run' button to start calculation.</li>\n",
    "</ul>"
   ]
  },
  {
   "cell_type": "code",
   "execution_count": null,
   "metadata": {},
   "outputs": [],
   "source": []
  }
 ],
 "metadata": {
  "kernelspec": {
   "display_name": "Python 3",
   "language": "python",
   "name": "python3"
  },
  "language_info": {
   "codemirror_mode": {
    "name": "ipython",
    "version": 3
   },
   "file_extension": ".py",
   "mimetype": "text/x-python",
   "name": "python",
   "nbconvert_exporter": "python",
   "pygments_lexer": "ipython3",
   "version": "3.8.3"
  }
 },
 "nbformat": 4,
 "nbformat_minor": 2
}
