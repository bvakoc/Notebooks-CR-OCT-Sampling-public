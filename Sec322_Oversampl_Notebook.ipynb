{
 "cells": [
  {
   "cell_type": "markdown",
   "metadata": {},
   "source": [
    "<b> <h1>Section 3.2.2 | Roll-off compensation</h1> </b>\n",
    "\n",
    "This Notebook serves as supplementary material to Sec. 3.2.2. It illustrates the baseband roll-off and its compensation in the highly oversampling regime.\n",
    "\n",
    "<b> <h3>Exercise</h3> </b>\n",
    "<ul type=\"square\">\n",
    "    <li>In linear scale, a sampling rate of 3.7, LPF cutoff at 3.7 and a clock phase of $\\pi$, slowly move the signal across the baseband. Overserve the signal baseband roll-off.</li>\n",
    "    <li>For a depth signal at zero RF frequency, enable Nyquist Interpolation. Click the 'Norm' button twice to normalize the signal amplitude (normalization is turned off for the following measurements to appreciate the change in amplitude when moving the PSF across the baseband). Disable Nyquist Interpolation when you are finished.</li>\n",
    "    <li>For a depth signal at zero RF frequency, enable Coh. Summation. Click the 'Norm' button twice to normalize the signal amplitude (normalization is turned off for the following measurements to appreciate the change in amplitude when moving the PSF across the baseband). Disable Coh. Summation when you are finished.</li>\n",
    "</ul>"
   ]
  },
  {
   "cell_type": "code",
   "execution_count": 1,
   "metadata": {},
   "outputs": [
    {
     "data": {
      "application/vnd.jupyter.widget-view+json": {
       "model_id": "f83d4c59de764360bbf96e590dd9eafa",
       "version_major": 2,
       "version_minor": 0
      },
      "text/plain": [
       "HBox(children=(VBox(children=(FloatText(value=3.7, description='Sampling', layout=Layout(width='150px')), Floa…"
      ]
     },
     "metadata": {},
     "output_type": "display_data"
    },
    {
     "data": {
      "application/vnd.jupyter.widget-view+json": {
       "model_id": "ec361a700ba94e84b5f9dac552339b23",
       "version_major": 2,
       "version_minor": 0
      },
      "text/plain": [
       "Output()"
      ]
     },
     "metadata": {},
     "output_type": "display_data"
    },
    {
     "data": {
      "application/vnd.jupyter.widget-view+json": {
       "model_id": "ee38816824bd4da1bf8e2a9a3b5412c9",
       "version_major": 2,
       "version_minor": 0
      },
      "text/plain": [
       "HBox(children=(Checkbox(value=False, description='Physical signal', indent=False), Checkbox(value=True, descri…"
      ]
     },
     "metadata": {},
     "output_type": "display_data"
    }
   ],
   "source": [
    "%run ./Sec322.ipynb"
   ]
  },
  {
   "cell_type": "markdown",
   "metadata": {},
   "source": [
    "<h3>Description</h3>\n",
    "\n",
    "<b>Graph</b>\n",
    "<ul type=\"square\">\n",
    "    <li>The graph shows the CR depth signal.</li>\n",
    "    <li>The x-axis represents the normalized RF-frequency with respect to the optical Nyquist frequency.</li>\n",
    "    <li>The red curve represents the sampled signal (digitized) (2th checkbox).</li>\n",
    "    <li>The black curve represents the physical signal before sampling (1st checkbox).</li>\n",
    "    <li>The blue shaded area indicates the circular (depth) range (4th checkbox).</li>\n",
    "    <li>The red shaded area indicates the sampling window (3th checkbox).</li>\n",
    "</ul>\n",
    "\n",
    "<b>Interactive tools</b>\n",
    "<ul>\n",
    "    <li>The 'Sampling' box enables the selection of the sampling rate. It is normalized to optical Nyquist frequency; e.g., 1 corresponds to optical Nyquist sampling and >1 corresponds to oversampling.</li>\n",
    "    <li>The 'ClockPhase' box changes the acquisition clock phase (rad, between 0 and 2$\\pi$).</li>\n",
    "    <li>The 'Log' button switches between log and linear scale.</li>\n",
    "    <li>The 'Norm' button normalizes the signal amplitude. It saves the last normalization value when disabling.</li>\n",
    "    <li>The 'Nyq. Interp.' button performs Nyquist interpolation for roll-off compensation.</li>\n",
    "    <li>The 'Coh. Sum' button performs coherent summation (in the time-domain) for roll-off compensation.</li>\n",
    "    <li>The RF fringe frequency (signal depth) can be adjusted with the '$f/f_o$' slider. It is normalized to the optical Nyquist frequency.</li>\n",
    "    <li>The LPF corner frequency can be adjusted with the 'LPF cutoff' slider. It is normalized to the optical Nyquist frequency, $f_f/f_o$; i.e., 1 corresponds to a corner frequency equal to the optical Nyquist frequency. The LPF is a 5th order Butterworth filter.</li>\n",
    "</ul>"
   ]
  },
  {
   "cell_type": "code",
   "execution_count": null,
   "metadata": {},
   "outputs": [],
   "source": []
  }
 ],
 "metadata": {
  "kernelspec": {
   "display_name": "Python 3",
   "language": "python",
   "name": "python3"
  },
  "language_info": {
   "codemirror_mode": {
    "name": "ipython",
    "version": 3
   },
   "file_extension": ".py",
   "mimetype": "text/x-python",
   "name": "python",
   "nbconvert_exporter": "python",
   "pygments_lexer": "ipython3",
   "version": "3.7.6"
  }
 },
 "nbformat": 4,
 "nbformat_minor": 2
}
