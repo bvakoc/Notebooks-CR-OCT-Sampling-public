{
 "cells": [
  {
   "cell_type": "markdown",
   "metadata": {},
   "source": [
    "|<h1>SUPPLEMENTARY MATERIAL</h1>|\n",
    "|:----------------|\n",
    "|<h1>Optimal system design for CR-OCT</h1>|"
   ]
  },
  {
   "cell_type": "markdown",
   "metadata": {},
   "source": [
    "<br>Select Jupiter Notebooks as supplementary simulations to discussions in the manuscript.<br>\n",
    "\n",
    "<h3>CR-OCT signals</h3>\n",
    "\n",
    "<a href=\"Notebook_Sec2_Signals.ipynb\"> Section 2.:  Signals</a>\n",
    "\n",
    "<h3>Nyquist sampling</h3>\n",
    "\n",
    "<a href=\"Notebook_Sec31_Nyquist.ipynb\"> Section 3.1.:  Acquisition clock</a> <br>\n",
    "<a href=\"Notebook_Sec32_Nyquist.ipynb\"> Section 3.2.:  SNR</a>\n",
    "\n",
    "<h3>Oversampling</h3>\n",
    "\n",
    "<a href=\"Notebook_Sec41_Oversampl.ipynb\"> Section 4.1.:  Aliasing artefacts</a> <br>\n",
    "<a href=\"Notebook_Sec42_Oversampl.ipynb\"> Section 4.2.:  Baseband roll-off + compensation</a>\n",
    "\n",
    "\n",
    "<h5>Minimal oversampling</h5>\n",
    "\n",
    "<a href=\"Sec43_Oversampl_Notebook.ipynb\"> Section 4.3.:  Aliasing artefacts</a> <br>\n",
    "<a href=\"NotebookSec432_Oversampl.ipynb\"> (Not in paper)  Baseband roll-off + compensation</a> <br>\n",
    "\n",
    "<br>"
   ]
  },
  {
   "cell_type": "code",
   "execution_count": 1,
   "metadata": {},
   "outputs": [
    {
     "data": {
      "text/html": [
       "<style>\n",
       "table {float:left}\n",
       "</style>\n"
      ],
      "text/plain": [
       "<IPython.core.display.HTML object>"
      ]
     },
     "metadata": {},
     "output_type": "display_data"
    }
   ],
   "source": [
    "%%html\n",
    "<style>\n",
    "table {float:left}\n",
    "</style>"
   ]
  }
 ],
 "metadata": {
  "kernelspec": {
   "display_name": "Python 3",
   "language": "python",
   "name": "python3"
  },
  "language_info": {
   "codemirror_mode": {
    "name": "ipython",
    "version": 3
   },
   "file_extension": ".py",
   "mimetype": "text/x-python",
   "name": "python",
   "nbconvert_exporter": "python",
   "pygments_lexer": "ipython3",
   "version": "3.8.3"
  }
 },
 "nbformat": 4,
 "nbformat_minor": 2
}
