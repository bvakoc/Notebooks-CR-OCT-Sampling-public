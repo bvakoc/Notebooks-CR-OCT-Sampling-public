{
 "cells": [
  {
   "cell_type": "markdown",
   "metadata": {},
   "source": [
    "<b> <h1>Supplement to Section 3.1.2 | Analog low-pass filter</h1> </b>\n",
    "\n",
    "This Notebook serves as supplementary material to Sec. 3.1.2. and Figs. 9 and illustrates the dependency of SNR on the low-pass filter (LPF). \n",
    "\n",
    "<b> <h2>Signal-to-noise ratio</h2> </b>\n",
    "\n",
    "<b>Exercise:</b>\n",
    "<ul type=\"square\">\n",
    "    <li> Plot the SNR of the CR signal by selecting the filter order, filter type and a range of filter corner frequencies.\n",
    "</ul>"
   ]
  },
  {
   "cell_type": "code",
   "execution_count": 1,
   "metadata": {},
   "outputs": [
    {
     "data": {
      "application/vnd.jupyter.widget-view+json": {
       "model_id": "2d14eac6adbe478987c4100cc421466d",
       "version_major": 2,
       "version_minor": 0
      },
      "text/plain": [
       "GridspecLayout(children=(Dropdown(description='Type:', layout=Layout(grid_area='widget001', width='180px'), op…"
      ]
     },
     "metadata": {},
     "output_type": "display_data"
    },
    {
     "name": "stdout",
     "output_type": "stream",
     "text": [
      "Calculating:  0 %\n",
      "Calculating:  4 %\n",
      "Calculating:  9 %\n",
      "Calculating:  13 %\n",
      "Calculating:  18 %\n",
      "Calculating:  22 %\n",
      "Calculating:  27 %\n",
      "Calculating:  31 %\n",
      "Calculating:  36 %\n",
      "Calculating:  40 %\n",
      "Calculating:  45 %\n",
      "Calculating:  50 %\n",
      "Calculating:  54 %\n",
      "Calculating:  59 %\n",
      "Calculating:  63 %\n",
      "Calculating:  68 %\n",
      "Calculating:  72 %\n",
      "Calculating:  77 %\n",
      "Calculating:  81 %\n",
      "Calculating:  86 %\n",
      "Calculating:  90 %\n",
      "Calculating:  95 %\n"
     ]
    },
    {
     "data": {
      "image/png": "[encoded data removed]",
      "text/plain": [
       "<Figure size 432x288 with 2 Axes>"
      ]
     },
     "metadata": {},
     "output_type": "display_data"
    }
   ],
   "source": [
    "%run ./Sec312.ipynb\n",
    "grid = GridspecLayout(4, 4)\n",
    "grid[0, 0] = FiltType_dropdown\n",
    "grid[1, 0] = order_dropdown\n",
    "grid[2, 0] = FiltRange_slider\n",
    "grid[0, 1] = ndepth_text\n",
    "grid[1, 1] = avg_text\n",
    "grid[2, 1] = Run_button\n",
    "grid"
   ]
  },
  {
   "cell_type": "code",
   "execution_count": null,
   "metadata": {},
   "outputs": [],
   "source": []
  }
 ],
 "metadata": {
  "kernelspec": {
   "display_name": "Python 3",
   "language": "python",
   "name": "python3"
  },
  "language_info": {
   "codemirror_mode": {
    "name": "ipython",
    "version": 3
   },
   "file_extension": ".py",
   "mimetype": "text/x-python",
   "name": "python",
   "nbconvert_exporter": "python",
   "pygments_lexer": "ipython3",
   "version": "3.7.6"
  }
 },
 "nbformat": 4,
 "nbformat_minor": 2
}
