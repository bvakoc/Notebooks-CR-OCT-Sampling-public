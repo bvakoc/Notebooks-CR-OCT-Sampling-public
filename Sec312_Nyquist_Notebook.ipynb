{
 "cells": [
  {
   "cell_type": "markdown",
   "metadata": {},
   "source": [
    "<b> <h1>Section 3.1.2 | Analog low-pass filter</h1> </b>\n",
    "\n",
    "This Notebook serves as supplementary material to Sec. 3.1.2. and Figs. 9. It illustrates the dependency of the SNR on the low-pass filter (LPF). \n",
    "\n",
    "<b>Notes</b>\n",
    "<ul type=\"square\">\n",
    "    <li>Choose below the LPF type, order and range of corner frequencies for which to calculate the SNR.</li>\n",
    "    <li>The LPF cutoff frequency is normalized to the optical Nyquist frequency; i.e., 1 corresponds to a cutoff at the optical Nyquist frequency.</li>\n",
    "    <li>The '# depths' box represents the number of points across the baseband for which to calculate the SNR.</li>\n",
    "    <li>The 'Avg' box determines the averaging applied for SNR calculation.</li>\n",
    "    <li>After selecting all parameters, press the 'Run' button to start calculation.</li>\n",
    "</ul>"
   ]
  },
  {
   "cell_type": "code",
   "execution_count": 1,
   "metadata": {},
   "outputs": [
    {
     "data": {
      "application/vnd.jupyter.widget-view+json": {
       "model_id": "9588aafe61be41499a4b027358347d88",
       "version_major": 2,
       "version_minor": 0
      },
      "text/plain": [
       "GridspecLayout(children=(Dropdown(description='Type:', layout=Layout(grid_area='widget001', width='180px'), op…"
      ]
     },
     "metadata": {},
     "output_type": "display_data"
    },
    {
     "name": "stdout",
     "output_type": "stream",
     "text": [
      "Calculating:  0 %\n",
      "Calculating:  5 %\n",
      "Calculating:  11 %\n",
      "Calculating:  17 %\n",
      "Calculating:  23 %\n",
      "Calculating:  29 %\n",
      "Calculating:  35 %\n",
      "Calculating:  41 %\n",
      "Calculating:  47 %\n",
      "Calculating:  52 %\n",
      "Calculating:  58 %\n",
      "Calculating:  64 %\n",
      "Calculating:  70 %\n",
      "Calculating:  76 %\n",
      "Calculating:  82 %\n",
      "Calculating:  88 %\n",
      "Calculating:  94 %\n"
     ]
    },
    {
     "data": {
      "image/png": "[encoded data removed]",
      "text/plain": [
       "<Figure size 432x288 with 2 Axes>"
      ]
     },
     "metadata": {},
     "output_type": "display_data"
    }
   ],
   "source": [
    "%run ./Sec312.ipynb\n",
    "grid = GridspecLayout(4, 4)\n",
    "grid[0, 0] = FiltType_dropdown\n",
    "grid[1, 0] = order_dropdown\n",
    "grid[2, 0] = FiltRange_slider\n",
    "grid[0, 1] = ndepth_text\n",
    "grid[1, 1] = avg_text\n",
    "grid[2, 1] = Run_button\n",
    "grid"
   ]
  }
 ],
 "metadata": {
  "kernelspec": {
   "display_name": "Python 3",
   "language": "python",
   "name": "python3"
  },
  "language_info": {
   "codemirror_mode": {
    "name": "ipython",
    "version": 3
   },
   "file_extension": ".py",
   "mimetype": "text/x-python",
   "name": "python",
   "nbconvert_exporter": "python",
   "pygments_lexer": "ipython3",
   "version": "3.7.6"
  }
 },
 "nbformat": 4,
 "nbformat_minor": 2
}
