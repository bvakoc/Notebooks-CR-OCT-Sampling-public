{
 "cells": [
  {
   "cell_type": "markdown",
   "metadata": {},
   "source": [
    "<b> <h1>Supplement to Section 3.1.2 | Analog low-pass filter</h1> </b>\n",
    "\n",
    "This Notebook serves as supplementary material to Sec. 3.1.2. and Figs. 9 and illustrates the dependency of SNR on the low-pass filter (LPF). \n",
    "\n",
    "<b> <h2>Signal-to-noise ratio</h2> </b>\n",
    "\n",
    "<b>Exercise:</b>\n",
    "<ul type=\"square\">\n",
    "    <li> Plot the SNR of the CR signal below by selecting the filter order, filter type and filter corner frequency.\n",
    "</ul>"
   ]
  },
  {
   "cell_type": "code",
   "execution_count": 1,
   "metadata": {},
   "outputs": [
    {
     "data": {
      "application/vnd.jupyter.widget-view+json": {
       "model_id": "a48be3d33d9743828f7975daa0e1e7fc",
       "version_major": 2,
       "version_minor": 0
      },
      "text/plain": [
       "GridspecLayout(children=(Dropdown(description='Type:', layout=Layout(grid_area='widget001', width='180px'), op…"
      ]
     },
     "metadata": {},
     "output_type": "display_data"
    },
    {
     "name": "stdout",
     "output_type": "stream",
     "text": [
      "Calculating:  0 %\n"
     ]
    },
    {
     "name": "stderr",
     "output_type": "stream",
     "text": [
      "C:\\Users\\Norman\\anaconda3\\lib\\site-packages\\numpy\\core\\fromnumeric.py:3335: RuntimeWarning: Mean of empty slice.\n",
      "  out=out, **kwargs)\n",
      "C:\\Users\\Norman\\anaconda3\\lib\\site-packages\\numpy\\core\\_methods.py:154: RuntimeWarning: invalid value encountered in true_divide\n",
      "  ret, rcount, out=ret, casting='unsafe', subok=False)\n"
     ]
    },
    {
     "name": "stdout",
     "output_type": "stream",
     "text": [
      "Calculating:  6 %\n",
      "Calculating:  12 %\n",
      "Calculating:  18 %\n",
      "Calculating:  25 %\n",
      "Calculating:  31 %\n",
      "Calculating:  37 %\n",
      "Calculating:  43 %\n",
      "Calculating:  50 %\n",
      "Calculating:  56 %\n",
      "Calculating:  62 %\n",
      "Calculating:  68 %\n",
      "Calculating:  75 %\n",
      "Calculating:  81 %\n",
      "Calculating:  87 %\n",
      "Calculating:  93 %\n"
     ]
    },
    {
     "data": {
      "image/png": "[encoded data removed]",
      "text/plain": [
       "<Figure size 432x288 with 2 Axes>"
      ]
     },
     "metadata": {},
     "output_type": "display_data"
    }
   ],
   "source": [
    "%run ./Sec312_2.ipynb\n",
    "grid = GridspecLayout(4, 4)\n",
    "grid[0, 0] = FiltType_dropdown\n",
    "grid[1, 0] = order_dropdown\n",
    "grid[2, 0] = FiltRange_slider\n",
    "grid[0, 1] = ndepth_text\n",
    "grid[1, 1] = avg_text\n",
    "grid[2, 1] = Run_button\n",
    "grid"
   ]
  }
 ],
 "metadata": {
  "kernelspec": {
   "display_name": "Python 3",
   "language": "python",
   "name": "python3"
  },
  "language_info": {
   "codemirror_mode": {
    "name": "ipython",
    "version": 3
   },
   "file_extension": ".py",
   "mimetype": "text/x-python",
   "name": "python",
   "nbconvert_exporter": "python",
   "pygments_lexer": "ipython3",
   "version": "3.7.6"
  }
 },
 "nbformat": 4,
 "nbformat_minor": 2
}
