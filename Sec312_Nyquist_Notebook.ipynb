{
 "cells": [
  {
   "cell_type": "markdown",
   "metadata": {},
   "source": [
    "<b> <h1>Supplement to Section 3.1.2 | Analog low-pass filter</h1> </b>\n",
    "\n",
    "This Notebook illustrates the dependency of SNR on the low-pass filter (LPF) and serves as supplementary material to Sec. 3.1.2. and Figs. 8-9.\n",
    "\n",
    " \n",
    "\n",
    "<b>Exercise:</b>\n",
    "<ul type=\"square\">\n",
    "    <li> For different Slowly change the first slider to observe the depth (RF) signal with quadrature detection (I/Q) 'on' and\n",
    "        'off'.</li>\n",
    "    <li> With I/Q 'on' and Log 'off' (linear scale), observe the signal loss when approaching optical Nyquist frequency due to\n",
    "        acquisition clock phase misalignment.</li>\n",
    "    <li> Change the slider for the optimum clock phase. The optimum phase may be found by maximizing the PSF magnitude\n",
    "        close to optical Nyquist frequency.</li>\n",
    "</ul>"
   ]
  },
  {
   "cell_type": "code",
   "execution_count": 1,
   "metadata": {},
   "outputs": [],
   "source": [
    "#%run ./Sec312_1.ipynb"
   ]
  },
  {
   "cell_type": "code",
   "execution_count": 8,
   "metadata": {},
   "outputs": [
    {
     "data": {
      "application/vnd.jupyter.widget-view+json": {
       "model_id": "610b28dba72f4951aa0b5932d7842504",
       "version_major": 2,
       "version_minor": 0
      },
      "text/plain": [
       "TwoByTwoLayout(children=(Dropdown(description='Order:', index=3, layout=Layout(grid_area='top-left'), options=…"
      ]
     },
     "metadata": {},
     "output_type": "display_data"
    },
    {
     "name": "stdout",
     "output_type": "stream",
     "text": [
      "Calculating:  0 %\n"
     ]
    },
    {
     "name": "stderr",
     "output_type": "stream",
     "text": [
      "C:\\Users\\Norman\\anaconda3\\lib\\site-packages\\numpy\\core\\fromnumeric.py:3335: RuntimeWarning: Mean of empty slice.\n",
      "  out=out, **kwargs)\n",
      "C:\\Users\\Norman\\anaconda3\\lib\\site-packages\\numpy\\core\\_methods.py:161: RuntimeWarning: invalid value encountered in double_scalars\n",
      "  ret = ret.dtype.type(ret / rcount)\n"
     ]
    },
    {
     "name": "stdout",
     "output_type": "stream",
     "text": [
      "Calculating:  12 %\n",
      "Calculating:  25 %\n"
     ]
    }
   ],
   "source": [
    "%run ./Sec312_2.ipynb\n",
    "TwoByTwoLayout(top_left=order_dropdown, top_right=FiltType_dropdown, bottom_left=FiltRange_slider, bottom_right=Run_button)"
   ]
  },
  {
   "cell_type": "code",
   "execution_count": null,
   "metadata": {},
   "outputs": [],
   "source": [
    "len(snr)"
   ]
  },
  {
   "cell_type": "code",
   "execution_count": null,
   "metadata": {},
   "outputs": [],
   "source": []
  },
  {
   "cell_type": "code",
   "execution_count": null,
   "metadata": {},
   "outputs": [],
   "source": []
  }
 ],
 "metadata": {
  "kernelspec": {
   "display_name": "Python 3",
   "language": "python",
   "name": "python3"
  },
  "language_info": {
   "codemirror_mode": {
    "name": "ipython",
    "version": 3
   },
   "file_extension": ".py",
   "mimetype": "text/x-python",
   "name": "python",
   "nbconvert_exporter": "python",
   "pygments_lexer": "ipython3",
   "version": "3.7.6"
  }
 },
 "nbformat": 4,
 "nbformat_minor": 2
}
