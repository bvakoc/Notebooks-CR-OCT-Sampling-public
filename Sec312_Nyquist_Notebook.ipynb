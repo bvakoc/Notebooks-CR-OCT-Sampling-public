{
 "cells": [
  {
   "cell_type": "markdown",
   "metadata": {},
   "source": [
    "<b> <h1>Supplement to Section 3.1.2 | Analog low-pass filter</h1> </b>\n",
    "\n",
    "This Notebook illustrates the dependency of SNR on the low-pass filter (LPF) and serves as supplementary material to Sec. 3.1.2. and Figs. 8-9.\n",
    "\n",
    " \n",
    "\n",
    "<b>Exercise:</b>\n",
    "<ul type=\"square\">\n",
    "    <li> For different Slowly change the first slider to observe the depth (RF) signal with quadrature detection (I/Q) 'on' and\n",
    "        'off'.</li>\n",
    "    <li> With I/Q 'on' and Log 'off' (linear scale), observe the signal loss when approaching optical Nyquist frequency due to\n",
    "        acquisition clock phase misalignment.</li>\n",
    "    <li> Change the slider for the optimum clock phase. The optimum phase may be found by maximizing the PSF magnitude\n",
    "        close to optical Nyquist frequency.</li>\n",
    "</ul>"
   ]
  },
  {
   "cell_type": "code",
   "execution_count": 1,
   "metadata": {},
   "outputs": [],
   "source": [
    "#%run ./Sec312_1.ipynb"
   ]
  },
  {
   "cell_type": "code",
   "execution_count": 5,
   "metadata": {},
   "outputs": [
    {
     "data": {
      "application/vnd.jupyter.widget-view+json": {
       "model_id": "185f1d09889d4f3db2de2c287e3e65fc",
       "version_major": 2,
       "version_minor": 0
      },
      "text/plain": [
       "TwoByTwoLayout(children=(Dropdown(description='Order:', index=3, layout=Layout(grid_area='top-left'), options=…"
      ]
     },
     "metadata": {},
     "output_type": "display_data"
    },
    {
     "name": "stdout",
     "output_type": "stream",
     "text": [
      "Calculating:  0 %\n"
     ]
    },
    {
     "name": "stderr",
     "output_type": "stream",
     "text": [
      "C:\\Users\\Norman\\anaconda3\\lib\\site-packages\\numpy\\core\\fromnumeric.py:3335: RuntimeWarning: Mean of empty slice.\n",
      "  out=out, **kwargs)\n",
      "C:\\Users\\Norman\\anaconda3\\lib\\site-packages\\numpy\\core\\_methods.py:154: RuntimeWarning: invalid value encountered in true_divide\n",
      "  ret, rcount, out=ret, casting='unsafe', subok=False)\n"
     ]
    },
    {
     "name": "stdout",
     "output_type": "stream",
     "text": [
      "Calculating:  6 %\n",
      "Calculating:  12 %\n",
      "Calculating:  18 %\n",
      "Calculating:  25 %\n",
      "Calculating:  31 %\n",
      "Calculating:  37 %\n",
      "Calculating:  43 %\n",
      "Calculating:  50 %\n",
      "Calculating:  56 %\n",
      "Calculating:  62 %\n",
      "Calculating:  68 %\n",
      "Calculating:  75 %\n",
      "Calculating:  81 %\n",
      "Calculating:  87 %\n",
      "Calculating:  93 %\n"
     ]
    },
    {
     "data": {
      "image/png": "[encoded data removed]",
      "text/plain": [
       "<Figure size 360x360 with 2 Axes>"
      ]
     },
     "metadata": {},
     "output_type": "display_data"
    }
   ],
   "source": [
    "%run ./Sec312_2.ipynb\n",
    "#%run ./Sec312_2_singleDepth.ipynb\n",
    "TwoByTwoLayout(top_left=order_dropdown, top_right=FiltType_dropdown, bottom_left=FiltRange_slider, bottom_right=Run_button)"
   ]
  },
  {
   "cell_type": "code",
   "execution_count": 9,
   "metadata": {},
   "outputs": [
    {
     "data": {
      "image/png": "[encoded data removed]",
      "text/plain": [
       "<Figure size 432x288 with 1 Axes>"
      ]
     },
     "metadata": {},
     "output_type": "display_data"
    }
   ],
   "source": [
    "plt.imshow(10*np.log10(snr), cmap=plt.cm.viridis)\n",
    "plt.colorbar\n",
    "plt.gca().invert_yaxis()"
   ]
  },
  {
   "cell_type": "code",
   "execution_count": null,
   "metadata": {},
   "outputs": [],
   "source": []
  },
  {
   "cell_type": "code",
   "execution_count": null,
   "metadata": {},
   "outputs": [],
   "source": []
  }
 ],
 "metadata": {
  "kernelspec": {
   "display_name": "Python 3",
   "language": "python",
   "name": "python3"
  },
  "language_info": {
   "codemirror_mode": {
    "name": "ipython",
    "version": 3
   },
   "file_extension": ".py",
   "mimetype": "text/x-python",
   "name": "python",
   "nbconvert_exporter": "python",
   "pygments_lexer": "ipython3",
   "version": "3.7.6"
  }
 },
 "nbformat": 4,
 "nbformat_minor": 2
}
