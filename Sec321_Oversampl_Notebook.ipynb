{
 "cells": [
  {
   "cell_type": "markdown",
   "metadata": {},
   "source": [
    "<b> <h1>Section 3.2.1 | Aliasing artefacts</h1> </b>\n",
    "\n",
    "This Notebook serves as supplementary material to Sec. 3.2.1. and Figs. 10, 11. It illustrates aliasing artefacts in the highly oversampling regime.\n",
    "\n",
    "<b> <h3>Exercise</h3> </b>\n",
    "<ul type=\"square\">\n",
    "    <li>For a non-intiger sampling rate (e.g. 2.7), slowly change the signal frequency. Observe the appearance of artefacts as a function of signal frequency (depth); i.e., artefacts vanish for low frequencies (depths) and get stronger for higher frequency due to a rectangular fringe.</li>\n",
    "    <li>Observe the physical signal (before sampling, black line) together with the sampled signal (red line) and appreciate the aliasing of harmonics into the sampled signal that form artefacts.</li>\n",
    "    <li>For intiger oversampling (e.g. 3), observe how there are no artefacts as aliased harmonics superimpose with harmonics within the sampling window.</li>\n",
    "    <li>For non-intiger sampling (e.g. 2.7), choose appropriate LPF parameters so that aliasing artefacts inside the baseband (blue window) are sufficiently suppressed (e.g. $<$ -40 dB).</li>\n",
    "</ul>"
   ]
  },
  {
   "cell_type": "code",
   "execution_count": 5,
   "metadata": {
    "scrolled": false
   },
   "outputs": [
    {
     "data": {
      "application/vnd.jupyter.widget-view+json": {
       "model_id": "87cc4e3c028b4292bcf7529166e61be0",
       "version_major": 2,
       "version_minor": 0
      },
      "text/plain": [
       "HBox(children=(VBox(children=(FloatText(value=2.7, description='Sampling', layout=Layout(width='150px')),)), V…"
      ]
     },
     "metadata": {},
     "output_type": "display_data"
    },
    {
     "data": {
      "application/vnd.jupyter.widget-view+json": {
       "model_id": "3cd5cc14b2534c57bf49ca71cd5f66bc",
       "version_major": 2,
       "version_minor": 0
      },
      "text/plain": [
       "Output()"
      ]
     },
     "metadata": {},
     "output_type": "display_data"
    },
    {
     "data": {
      "application/vnd.jupyter.widget-view+json": {
       "model_id": "28613307e6cc4ce3947d05baa8d5f53b",
       "version_major": 2,
       "version_minor": 0
      },
      "text/plain": [
       "HBox(children=(Checkbox(value=True, description='Physical signal', indent=False), Checkbox(value=True, descrip…"
      ]
     },
     "metadata": {},
     "output_type": "display_data"
    }
   ],
   "source": [
    "run ./Sec321.ipynb"
   ]
  },
  {
   "cell_type": "markdown",
   "metadata": {},
   "source": [
    "<b> <h3>Description</h3> </b>\n",
    "\n",
    "<b>Graph</b>\n",
    "<ul type=\"square\">\n",
    "    <li>The graph shows the CR depth signal.</li>\n",
    "    <li>The x-axis represents the normalized RF-frequency with respect to the optical Nyquist frequency.</li>\n",
    "    <li>The red curve represents the sampled signal (digitized).</li>\n",
    "    <li>The black curve represents the physical signal before sampling.</li>\n",
    "    <li>The blue shaded area indicates the circular (depth) range (4th checkbox).</li>\n",
    "    <li>The red shaded area indicates the sampling window (3th checkbox).</li>\n",
    "</ul>\n",
    "\n",
    "<b>Interactive tools</b>\n",
    "<ul>\n",
    "    <li>The 'Sampling' box enables the selection of the sampling rate; e.g., 1 corresponds to optical Nyquist sampling and\n",
    "        >1 corresponds to oversampling.</li>\n",
    "    <li>The LPF order and type can be selected in the dropdown menu.</li>\n",
    "    <li>The RF fringe frequency (signal depth) can be adjusted with the '$f/f_o$' slider. It is normalized to the optical Nyquist frequency.</li>\n",
    "    <li>The LPF corner frequency can be adjusted with the 'LPF cutoff' slider. It is normalized to the optical Nyquist frequency, $f_f/f_o$; i.e., 1 corresponds to a corner frequency equal to the optical Nyquist frequency.</li>\n",
    "</ul>"
   ]
  },
  {
   "cell_type": "code",
   "execution_count": null,
   "metadata": {},
   "outputs": [],
   "source": []
  }
 ],
 "metadata": {
  "kernelspec": {
   "display_name": "Python 3",
   "language": "python",
   "name": "python3"
  },
  "language_info": {
   "codemirror_mode": {
    "name": "ipython",
    "version": 3
   },
   "file_extension": ".py",
   "mimetype": "text/x-python",
   "name": "python",
   "nbconvert_exporter": "python",
   "pygments_lexer": "ipython3",
   "version": "3.7.6"
  }
 },
 "nbformat": 4,
 "nbformat_minor": 2
}
