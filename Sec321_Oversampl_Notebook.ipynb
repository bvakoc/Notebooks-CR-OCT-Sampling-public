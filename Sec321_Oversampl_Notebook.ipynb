{
 "cells": [
  {
   "cell_type": "markdown",
   "metadata": {},
   "source": [
    "<b> <h1>Section 3.2.1 | Aliasing artefacts</h1> </b>\n",
    "\n",
    "This Notebook serves as supplementary material to Sec. 3.2.1. and Figs. 10, 11. It illustrates aliasing artefacts in the highly oversampling regime.\n",
    "\n",
    "<b>Notes</b>\n",
    "<ul type=\"square\">\n",
    "    <li>The graph below shows the CR depth signal.</li>\n",
    "    <li>The x-axis represents the normalized RF-frequency with respect to the optical Nyquist frequency.</li>\n",
    "    <li>The red curve represents the sampled signal (digitized).</li>\n",
    "    <li>The black curve represents the physical signal before sampling.</li>\n",
    "    <li>The blue shaded area indicates the circular (depth) range (4th checkbox).</li>\n",
    "    <li>The red shaded area indicates the sampling window (3th checkbox).</li>\n",
    "</ul>\n",
    "<ul>\n",
    "    <li>The 'Oversampling' box enables the selection of the sampling rate; e.g., 1 corresponds to optical Nyquist sampling and\n",
    "        >1 corresponds to oversampling.</li>\n",
    "    <li>The LPF order and type can be selected in the dropdown menu.</li>\n",
    "    <li>The RF fringe frequency (signal depth) can be adjusted with the 'f/fo' slider. It is normalized to the optical Nyquist frequency.</li>\n",
    "    <li>The LPF corner frequency can be adjusted with the 'LPF cutoff' slider. It is normalized to the optical Nyquist frequency; i.e., 1 corresponds to a corner frequency equal to the optical Nyquist frequency.</li>\n",
    "</ul>\n",
    "\n",
    "<b>Exercise</b>\n",
    "<ul type=\"square\">\n",
    "    <li>For a non-intiger sampling rate (e.g. 2.7), slowly change the signal frequency. Observe the appearance of artefacts as a function of signal frequency (depth); i.e., artefacts vanish for low frequencies (depths) and get stronger for higher frequency due to a rectangular fringe.</li>\n",
    "    <li>Observe the physical signal (before sampling, black line) together with the sampled signal (red line) and appreciate the aliasing of harmonics into the sampled signal that form artefacts.</li>\n",
    "      \n",
    "</ul>"
   ]
  },
  {
   "cell_type": "code",
   "execution_count": 1,
   "metadata": {
    "scrolled": false
   },
   "outputs": [
    {
     "data": {
      "application/vnd.jupyter.widget-view+json": {
       "model_id": "565f0c434aed40d08db4cea7d3fc3b9f",
       "version_major": 2,
       "version_minor": 0
      },
      "text/plain": [
       "HBox(children=(VBox(children=(FloatText(value=2.7, description='Oversampl.', layout=Layout(width='150px')),)),…"
      ]
     },
     "metadata": {},
     "output_type": "display_data"
    },
    {
     "data": {
      "application/vnd.jupyter.widget-view+json": {
       "model_id": "120940a49ce24235812d07df01c417fb",
       "version_major": 2,
       "version_minor": 0
      },
      "text/plain": [
       "Output()"
      ]
     },
     "metadata": {},
     "output_type": "display_data"
    },
    {
     "data": {
      "application/vnd.jupyter.widget-view+json": {
       "model_id": "fbca6b7bcc7e4d91aecba437543c7086",
       "version_major": 2,
       "version_minor": 0
      },
      "text/plain": [
       "HBox(children=(Checkbox(value=True, description='Physical signal', indent=False), Checkbox(value=True, descrip…"
      ]
     },
     "metadata": {},
     "output_type": "display_data"
    }
   ],
   "source": [
    "run ./Sec321_1.ipynb"
   ]
  },
  {
   "cell_type": "code",
   "execution_count": null,
   "metadata": {},
   "outputs": [],
   "source": []
  }
 ],
 "metadata": {
  "kernelspec": {
   "display_name": "Python 3",
   "language": "python",
   "name": "python3"
  },
  "language_info": {
   "codemirror_mode": {
    "name": "ipython",
    "version": 3
   },
   "file_extension": ".py",
   "mimetype": "text/x-python",
   "name": "python",
   "nbconvert_exporter": "python",
   "pygments_lexer": "ipython3",
   "version": "3.7.6"
  }
 },
 "nbformat": 4,
 "nbformat_minor": 2
}
