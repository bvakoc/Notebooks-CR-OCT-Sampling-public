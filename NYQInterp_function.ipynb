{
 "cells": [
  {
   "cell_type": "code",
   "execution_count": null,
   "metadata": {},
   "outputs": [],
   "source": [
    "def NYQInterp_function(ss, Noversampl, nl):\n",
    "    \n",
    "    npts1 = len(ss)\n",
    "    \n",
    "    if Noversampl >= 2:\n",
    "        Noversampl2 = 1\n",
    "    else:\n",
    "        Noversampl2 = 1\n",
    "    \n",
    "    npts2 = nl*Noversampl2\n",
    "    \n",
    "    ssr = np.real(ss)\n",
    "    ssi = np.imag(ss)\n",
    "\n",
    "    ssr_int0 = interpolate.splrep(np.linspace(1, npts1, npts1), ssr)\n",
    "    ssr_int = interpolate.splev(np.linspace(1, npts1, npts2), ssr_int0)\n",
    "    \n",
    "    ssi_int0 = interpolate.splrep(np.linspace(1, npts1, npts1), ssi)\n",
    "    ssi_int = interpolate.splev(np.linspace(1, npts1, npts2), ssi_int0)\n",
    "        \n",
    "    #fr = interp1d(np.linspace(1, npts1, npts1), ssr, kind='cubic')\n",
    "    #ssr_int = fr(np.linspace(1, npts1, npts2))\n",
    "    \n",
    "    #fi = interp1d(np.linspace(1, npts1, npts1), ssi, kind='cubic')\n",
    "    #ssi_int = fi(np.linspace(1, npts1, npts2))\n",
    "    \n",
    "    ss = ssr_int + 1j*ssi_int            \n",
    "    \n",
    "    return(ss)"
   ]
  }
 ],
 "metadata": {
  "kernelspec": {
   "display_name": "Python 3",
   "language": "python",
   "name": "python3"
  },
  "language_info": {
   "codemirror_mode": {
    "name": "ipython",
    "version": 3
   },
   "file_extension": ".py",
   "mimetype": "text/x-python",
   "name": "python",
   "nbconvert_exporter": "python",
   "pygments_lexer": "ipython3",
   "version": "3.7.6"
  }
 },
 "nbformat": 4,
 "nbformat_minor": 2
}
