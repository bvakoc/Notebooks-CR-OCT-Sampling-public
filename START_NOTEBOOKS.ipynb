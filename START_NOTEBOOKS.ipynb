{
 "cells": [
  {
   "cell_type": "markdown",
   "metadata": {},
   "source": [
    "|<h1>SUPPLEMENTARY MATERIAL</h1>|\n",
    "|:----------------|\n",
    "|<h1>Circular-ranging OCT: signals, sampling, post-processing</h1>|\n"
   ]
  },
  {
   "cell_type": "markdown",
   "metadata": {},
   "source": [
    "Select supplementary Notebooks to sections in the manuscript.<br><br>\n",
    "\n",
    "<h3>Signals</h3>\n",
    "\n",
    "<a href=\"Sec2_Signals_Notebook.ipynb\"> Section 2.  Signals</a>\n",
    "\n",
    "<h3>Nyquist sampling</h3>\n",
    "\n",
    "<a href=\"Sec311_Nyquist_Notebook.ipynb\"> Section 3.1.1.  Acquisition clock</a> <br>\n",
    "<a href=\"Sec312_Nyquist_Notebook.ipynb\"> Section 3.1.2.  SNR</a>\n",
    "\n",
    "<h3>Oversampling</h3>\n",
    "\n",
    "<h5>Highly oversampling</h5>\n",
    "\n",
    "<a href=\"Sec321_Oversampl_Notebook.ipynb\"> Section 3.2.1.  Aliasing artefacts</a> <br>\n",
    "<a href=\"Sec322_Oversampl_Notebook.ipynb\"> Section 3.2.2.  Baseband roll-off + compensation</a>\n",
    "\n",
    "\n",
    "<h5>Minimally oversampling</h5>\n",
    "\n",
    "TBD\n",
    "\n",
    "<br>"
   ]
  },
  {
   "cell_type": "code",
   "execution_count": 1,
   "metadata": {},
   "outputs": [
    {
     "data": {
      "text/html": [
       "<style>\n",
       "table {float:left}\n",
       "</style>\n"
      ],
      "text/plain": [
       "<IPython.core.display.HTML object>"
      ]
     },
     "metadata": {},
     "output_type": "display_data"
    }
   ],
   "source": [
    "%%html\n",
    "<style>\n",
    "table {float:left}\n",
    "</style>"
   ]
  }
 ],
 "metadata": {
  "kernelspec": {
   "display_name": "Python 3",
   "language": "python",
   "name": "python3"
  },
  "language_info": {
   "codemirror_mode": {
    "name": "ipython",
    "version": 3
   },
   "file_extension": ".py",
   "mimetype": "text/x-python",
   "name": "python",
   "nbconvert_exporter": "python",
   "pygments_lexer": "ipython3",
   "version": "3.7.6"
  }
 },
 "nbformat": 4,
 "nbformat_minor": 2
}
