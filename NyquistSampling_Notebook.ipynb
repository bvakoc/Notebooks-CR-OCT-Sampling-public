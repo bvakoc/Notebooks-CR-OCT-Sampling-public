{
 "cells": [
  {
   "cell_type": "markdown",
   "metadata": {},
   "source": [
    "<b> <h1>Nyquist sampling</h1> </b>\n",
    "\n",
    "This Notebook illustrates Nyquist sampling in circular-ranging (CR) OCT. Use this notebook parallel to the discussions in Section 3.1 in the manuscript. "
   ]
  },
  {
   "cell_type": "markdown",
   "metadata": {},
   "source": [
    "<h2>Fringe signal</h2>\n",
    "\n",
    "In the graph below we compute a CR fringe signal, showing the pysical signal (befor detection, blue line), the detected and analog low-pass filtered signal (yellow line) and the Nyquist sampled signal (green line). \n",
    "\n",
    "<b>Exercise:</b>\n",
    "<ul type=\"square\">\n",
    "    <li> Use the first slider to change the RF frequency of the fringe.</li>\n",
    "    <li> The RF frequency is normalized to the optical Nyquist frequency, fo.</li>\n",
    "    <li> Slowly change the RF fringe frequency and observe changes in the CR signals.</li>\n",
    "</ul>"
   ]
  },
  {
   "cell_type": "markdown",
   "metadata": {},
   "source": [
    "<h2>Acquisition clock phase</h2>\n",
    "\n",
    "In the same graph we visualize implications due to the acquisition clock phase, which is discussed in Section 3.1.1 in the manuscript.\n",
    "\n",
    "<b>Exercise:</b>\n",
    "<ul type=\"square\">\n",
    "    <li> Slowly change the second slider to manipulate the clock phase.</li>\n",
    "    <li> Observe changes in the sampled signal (green line) as the digitizer clock phase changes with respect to the optical\n",
    "        clock (frequency comb) phase.</li>\n",
    "    <li> Repeat this excerise for a low fringe frequency, medium range frequency (e.g. f = fo/2) and high frequency (e.g.\n",
    "        f = fo).</li>\n",
    "    <li> Observe how the signal magnitude is more dependent on the clock phase at high RF frequencies.</li>\n",
    "    <li> Observe how the sampled signal can disapear at the optical Nyquist frequency.</li>\n",
    "</ul>"
   ]
  },
  {
   "cell_type": "code",
   "execution_count": 1,
   "metadata": {},
   "outputs": [
    {
     "data": {
      "application/vnd.jupyter.widget-view+json": {
       "model_id": "589d45b3513041a2ad1dd749a083d281",
       "version_major": 2,
       "version_minor": 0
      },
      "text/plain": [
       "interactive(children=(FloatSlider(value=1.0, description='f/fo', layout=Layout(width='500px'), max=1.0), Float…"
      ]
     },
     "metadata": {},
     "output_type": "display_data"
    }
   ],
   "source": [
    "%run ./Nyquist1.ipynb"
   ]
  },
  {
   "cell_type": "markdown",
   "metadata": {},
   "source": [
    "<h2>Depth signal</h2>\n",
    "\n",
    "Here we plot the CR signal in the RF domain after Fourier transformation (depth signal) to appreciate the impact of an acquisition clock phase misalignment in an A-line. The x-axis is normalized to the optical Nyquist frequency.\n",
    "\n",
    "<b>Exercise:</b>\n",
    "<ul type=\"square\">\n",
    "    <li> Slowly change the first slider to observe the depth (RF) signal with quadrature detection (I/Q) 'on' and\n",
    "        'off'.</li>\n",
    "    <li> With I/Q 'on' and Log 'off' (linear scale), observe the signal loss when approaching optical Nyquist frequency due to\n",
    "        acquisition clock phase misalignment.</li>\n",
    "    <li> Change the slider for the optimum clock phase. The optimum phase may be found by maximizing the PSF magnitude\n",
    "        close to optical Nyquist frequency.</li>\n",
    "</ul>"
   ]
  },
  {
   "cell_type": "code",
   "execution_count": 2,
   "metadata": {},
   "outputs": [
    {
     "data": {
      "application/vnd.jupyter.widget-view+json": {
       "model_id": "dc3f1c2c924540d289579dc1c873f0c8",
       "version_major": 2,
       "version_minor": 0
      },
      "text/plain": [
       "interactive(children=(ToggleButton(value=True, description='I/Q', layout=Layout(margin='5px 0px')), ToggleButt…"
      ]
     },
     "metadata": {},
     "output_type": "display_data"
    }
   ],
   "source": [
    "%run ./Nyquist2.ipynb"
   ]
  },
  {
   "cell_type": "code",
   "execution_count": null,
   "metadata": {},
   "outputs": [],
   "source": []
  },
  {
   "cell_type": "code",
   "execution_count": null,
   "metadata": {},
   "outputs": [],
   "source": []
  }
 ],
 "metadata": {
  "kernelspec": {
   "display_name": "Python 3",
   "language": "python",
   "name": "python3"
  },
  "language_info": {
   "codemirror_mode": {
    "name": "ipython",
    "version": 3
   },
   "file_extension": ".py",
   "mimetype": "text/x-python",
   "name": "python",
   "nbconvert_exporter": "python",
   "pygments_lexer": "ipython3",
   "version": "3.7.6"
  }
 },
 "nbformat": 4,
 "nbformat_minor": 4
}
